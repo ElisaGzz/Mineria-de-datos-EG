{
 "cells": [
  {
   "cell_type": "markdown",
   "id": "55363b7d",
   "metadata": {},
   "source": [
    "# Ejercicios Python\n",
    "\n",
    "## Problema 1\n",
    "Realiza una variable con tu matricula y realiza una secuencia de imprimir con tu nombre y tu matricula concatenados.\n"
   ]
  },
  {
   "cell_type": "code",
   "execution_count": 4,
   "id": "9f319b90",
   "metadata": {},
   "outputs": [
    {
     "name": "stdout",
     "output_type": "stream",
     "text": [
      "Elisa González García 1858207\n"
     ]
    }
   ],
   "source": [
    "nombre= \"Elisa González García\"\n",
    "matrícula= \" 1858207\"\n",
    "concatenados= nombre + matrícula\n",
    "print(concatenados)"
   ]
  },
  {
   "cell_type": "markdown",
   "id": "038b5fc6",
   "metadata": {},
   "source": [
    "## Problema 2\n",
    "Pidiendo el input del usuario pide dos números y crea una pequeña calculadora con los operadores básicos de suma, resta, multiplicación, división, y exponente."
   ]
  },
  {
   "cell_type": "code",
   "execution_count": 9,
   "id": "9fda82d8",
   "metadata": {},
   "outputs": [
    {
     "name": "stdout",
     "output_type": "stream",
     "text": [
      "Ingresa el primer número: 3\n",
      "Ingresa el segundo número: 3\n",
      "La suma es: 6.0\n",
      "La resta es: 0.0\n",
      "La multiplicación es: 9.0\n",
      "La división es: 1.0\n",
      "El número elevado es: 27.0\n"
     ]
    }
   ],
   "source": [
    "N1= float(input(\"Ingresa el primer número: \"))\n",
    "N2= float(input(\"Ingresa el segundo número: \"))\n",
    "print(\"La suma es:\", N1+N2)\n",
    "print(\"La resta es:\", N1-N2)\n",
    "print(\"La multiplicación es:\", N1*N2)\n",
    "print(\"La división es:\", N1/N2)\n",
    "print(\"El número elevado es:\", N1**N2)\n"
   ]
  },
  {
   "attachments": {},
   "cell_type": "markdown",
   "id": "ea9da6f5",
   "metadata": {},
   "source": [
    "## Problema 3\n",
    "Con loop while o for, realiza una lista de 10 numeros multiplos de 3, y después realiza una función de loop que sume todos los números dentro del arreglo."
   ]
  },
  {
   "cell_type": "code",
   "execution_count": 26,
   "id": "caebbdb7",
   "metadata": {},
   "outputs": [
    {
     "name": "stdout",
     "output_type": "stream",
     "text": [
      "[3, 6, 9, 12, 15, 18, 21, 24, 27, 30]\n",
      "la suma es: 135\n"
     ]
    }
   ],
   "source": [
    "lista10num= [3]\n",
    "sumt= 0\n",
    "for i in range(2,11):\n",
    "     lista10num.extend([i*3])\n",
    "for i in range(0,9):\n",
    "    sumt= sumt+lista10num[i]\n",
    "print(lista10num)\n",
    "print(\"la suma es:\",sumt)\n",
    "\n"
   ]
  },
  {
   "cell_type": "markdown",
   "id": "1528f542",
   "metadata": {},
   "source": [
    "## Problema 4\n",
    "Con una función de if else, revisar si un número es par o es impar.\n",
    "Con una función de if else, revisar si un número es primo o no."
   ]
  },
  {
   "cell_type": "code",
   "execution_count": 45,
   "id": "675c11e8",
   "metadata": {},
   "outputs": [
    {
     "name": "stdout",
     "output_type": "stream",
     "text": [
      "Ingrese un número: 13\n",
      "13  Es un número impar\n",
      "Ingrese un número: 18\n",
      "El número 18 no es primo\n"
     ]
    }
   ],
   "source": [
    "#saber si el num es par o impar\n",
    "N1= int(input(\"Ingrese un número: \"))\n",
    "        \n",
    "if N1%2 == 0:\n",
    "    print(N1,\" Es un número par\")\n",
    "else:\n",
    "    print(N1,\" Es un número impar\")   \n",
    "\n",
    "#saber si el num es primo\n",
    "N2= int(input(\"Ingrese un número: \"))\n",
    "c= 0\n",
    "for i in range(1,N2+1):\n",
    "    if N2%i == 0:\n",
    "        c +=1\n",
    "if c==2:\n",
    "    print(\"El número\", N2, \"es primo\")\n",
    "else:\n",
    "    print(\"El número\", N2, \"no es primo\")"
   ]
  },
  {
   "cell_type": "markdown",
   "id": "e08466ed",
   "metadata": {},
   "source": [
    "## Problema 5\n",
    "Utilizando diferentes clases en python, crea una calculadora con los operadores básicos de suma, resta, multiplicación, división, y exponente.\n",
    "\n",
    "Funciones matemáticas en la librería de math en python:"
   ]
  },
  {
   "cell_type": "code",
   "execution_count": null,
   "id": "9b2c42bf",
   "metadata": {},
   "outputs": [],
   "source": [
    "\n"
   ]
  },
  {
   "cell_type": "markdown",
   "id": "9d1be6a9",
   "metadata": {},
   "source": [
    "## Ejercicios con estructuras básicas de python.\n",
    "## Tuplas\n",
    "Crear una variable flotante, integer, boleana y compleja e imprimir el tipo de variable que es.\n",
    "\n",
    "Crear una tupla con valores enteros imprimir el primer y ultimo valor.\n",
    "\n",
    "Añadir 3 valores de string a la tupla.\n",
    "\n",
    "Verificar si una variable existe dentro de la tupla."
   ]
  },
  {
   "cell_type": "code",
   "execution_count": 57,
   "id": "06f9e1bd",
   "metadata": {},
   "outputs": [
    {
     "name": "stdout",
     "output_type": "stream",
     "text": [
      "<class 'float'>\n",
      "<class 'int'>\n",
      "<class 'bool'>\n",
      "<class 'complex'>\n"
     ]
    }
   ],
   "source": [
    "##punto 1\n",
    "a=6.1\n",
    "b=2\n",
    "c=True\n",
    "d=1+2j\n",
    "#tipo de variable\n",
    "print(type(a))\n",
    "print(type(b))\n",
    "print(type(c))\n",
    "print(type(d))\n"
   ]
  },
  {
   "cell_type": "code",
   "execution_count": 58,
   "id": "16f2c855",
   "metadata": {},
   "outputs": [
    {
     "name": "stdout",
     "output_type": "stream",
     "text": [
      "El primer elemento es: 2\n",
      "El último elemento es: 20\n"
     ]
    }
   ],
   "source": [
    "# punto 2\n",
    "tupla=(2,4,6,8,10,12,14,16,18,20)\n",
    "print(\"El primer elemento es:\", tupla[0])\n",
    "print(\"El último elemento es:\", tupla[-1])\n"
   ]
  },
  {
   "cell_type": "code",
   "execution_count": 59,
   "id": "64f3c15d",
   "metadata": {},
   "outputs": [
    {
     "name": "stdout",
     "output_type": "stream",
     "text": [
      "(2, 4, 6, 8, 10, 12, 14, 16, 18, 20, 'Juego', 'Tenis', 'De mesa')\n"
     ]
    }
   ],
   "source": [
    "# punto 3\n",
    "tupla=tupla.__add__((\"Juego\",\"Tenis\",\"De mesa\",))\n",
    "print(tupla)\n"
   ]
  },
  {
   "cell_type": "code",
   "execution_count": 61,
   "id": "eed7d8ef",
   "metadata": {},
   "outputs": [
    {
     "name": "stdout",
     "output_type": "stream",
     "text": [
      "Verificar si se encuntra en la tupla: 2\n",
      "2  si se encuentra\n"
     ]
    }
   ],
   "source": [
    "# punto 4\n",
    "busca=str(input(\"Verificar si se encuntra en la tupla: \"))\n",
    "if busca in str(tupla):\n",
    "  print(busca, \" si se encuentra\")\n",
    "else:\n",
    "  print(busca, \" no se encuentra\")"
   ]
  },
  {
   "cell_type": "markdown",
   "id": "fc91ad6b",
   "metadata": {},
   "source": [
    "## Listas\n",
    "Crear una lista con 40 elementos aleatorios enteros.\n",
    "\n",
    "Con una funcion (def) crear dos listas nuevas a partir de la lista creada por numeros aleatorios, en la cual en una esten los elementos pares, y en la otra los elementos impares.\n",
    "\n",
    "Crear dos variables con la longitud de ambas listas nuevas e imprimir las variables.\n",
    "\n",
    "Ordenar los elementos de la lista par de mayor a menor, y los de la lista impar de menor a mayor.\n",
    "\n",
    "Utilizar al menos cuatro de las funciones de listas en python en la lista original de 40 elementos."
   ]
  },
  {
   "cell_type": "code",
   "execution_count": 74,
   "id": "fe1c1caf",
   "metadata": {},
   "outputs": [
    {
     "name": "stdout",
     "output_type": "stream",
     "text": [
      "[0, 66, 36, 18, 15, 3, 36, 71, 96, 80, 6, 25, 89, 76, 15, 95, 10, 90, 56, 74, 4, 71, 31, 46, 16, 26, 79, 54, 3, 95, 3, 72, 53, 20, 50, 63, 6, 97, 61, 94]\n"
     ]
    }
   ],
   "source": [
    "# punto 1\n",
    "import random\n",
    "lista=[]\n",
    "for i in range(0,40):\n",
    " lista.append(random.randint(0,100))\n",
    "print(lista)"
   ]
  },
  {
   "cell_type": "code",
   "execution_count": 116,
   "id": "26d340dc",
   "metadata": {},
   "outputs": [
    {
     "ename": "IndentationError",
     "evalue": "unexpected indent (<ipython-input-116-04cbd95c3c9d>, line 4)",
     "output_type": "error",
     "traceback": [
      "\u001b[1;36m  File \u001b[1;32m\"<ipython-input-116-04cbd95c3c9d>\"\u001b[1;36m, line \u001b[1;32m4\u001b[0m\n\u001b[1;33m    for i in range(len(lista)):\u001b[0m\n\u001b[1;37m    ^\u001b[0m\n\u001b[1;31mIndentationError\u001b[0m\u001b[1;31m:\u001b[0m unexpected indent\n"
     ]
    }
   ],
   "source": [
    "#punto 2\n",
    "def lista_pares(lista):\n",
    "    salida=[]\n",
    "      for i in range(len(lista)):\n",
    "    if lista[i]%2==0:\n",
    "    salida.append(lista[i])\n",
    "return salida\n",
    "\n",
    "def lista_impares(lista):\n",
    "salida=[]\n",
    "  for i in range(len(lista)):\n",
    "    if lista[i]%2!=0:\n",
    "    salida.append(lista[i])\n",
    "return salida\n",
    "l_pares=lista_pares(l)\n",
    "l_impares=lista_impares(l)\n",
    "print(l_pares)\n",
    "print(l_impares)"
   ]
  },
  {
   "cell_type": "markdown",
   "id": "ea110686",
   "metadata": {},
   "source": [
    "## Diccionarios\n",
    "Crear un diccionario de 6 personas que conozcas con su primer nombre y su edad.\n",
    "\n",
    "Crear una lista con los valores de la edad y reacomodar la lista de menor a mayor valor.\n",
    "\n",
    "Usando el diccionario y un loop, imprimir solo los nombres.\n",
    "\n",
    "Añadir dos personas nuevas a tu diccionario, incluyendo edad."
   ]
  },
  {
   "cell_type": "code",
   "execution_count": 64,
   "id": "c687757a",
   "metadata": {},
   "outputs": [
    {
     "name": "stdout",
     "output_type": "stream",
     "text": [
      "{'Elisa': 20, 'Jimena': 18, 'Jaime': 49, 'Elsa': 47, 'Patricio': 57, 'Brenda': 27}\n"
     ]
    }
   ],
   "source": [
    "# punto 1\n",
    "diccionario={\"Elisa\":20,\"Jimena\":18,\"Jaime\":49,\"Elsa\":47,\"Patricio\":57,\"Brenda\":27}\n",
    "print(diccionario)"
   ]
  },
  {
   "cell_type": "code",
   "execution_count": 65,
   "id": "0217b818",
   "metadata": {},
   "outputs": [
    {
     "name": "stdout",
     "output_type": "stream",
     "text": [
      "[18, 20, 27, 47, 49, 57]\n"
     ]
    }
   ],
   "source": [
    "# punto 2\n",
    "valed=list(diccionario.values())\n",
    "valed.sort()\n",
    "print(valed)"
   ]
  },
  {
   "cell_type": "code",
   "execution_count": 66,
   "id": "67ba5f3f",
   "metadata": {},
   "outputs": [
    {
     "name": "stdout",
     "output_type": "stream",
     "text": [
      "Elisa\n",
      "Jimena\n",
      "Jaime\n",
      "Elsa\n",
      "Patricio\n",
      "Brenda\n"
     ]
    }
   ],
   "source": [
    "# punto 3\n",
    "for i in diccionario:\n",
    "    print(i)"
   ]
  },
  {
   "cell_type": "code",
   "execution_count": 67,
   "id": "62fdf72b",
   "metadata": {},
   "outputs": [
    {
     "name": "stdout",
     "output_type": "stream",
     "text": [
      "{'Elisa': 20, 'Jimena': 18, 'Jaime': 49, 'Elsa': 47, 'Patricio': 57, 'Brenda': 27, 'Denisse': 20, 'Sara': 22}\n"
     ]
    }
   ],
   "source": [
    "# punto 4\n",
    "diccionario[\"Denisse\"]=20\n",
    "diccionario[\"Sara\"]=22\n",
    "print(diccionario)"
   ]
  },
  {
   "cell_type": "markdown",
   "id": "e74e74a3",
   "metadata": {},
   "source": [
    "## Sets\n",
    "Crea un set con 100 numeros aleatorios enteros del 1 al 25.\n",
    "\n",
    "Comprueba la longitud de tu set.\n",
    "\n",
    "Crea una lista de 5 numeros aleatorios del 1 al 10 y comprueba si cada valor aparece en el set inicial."
   ]
  },
  {
   "cell_type": "code",
   "execution_count": 130,
   "id": "27ce64ea",
   "metadata": {},
   "outputs": [
    {
     "ename": "IndentationError",
     "evalue": "unexpected indent (<ipython-input-130-665f6d7cbc1a>, line 3)",
     "output_type": "error",
     "traceback": [
      "\u001b[1;36m  File \u001b[1;32m\"<ipython-input-130-665f6d7cbc1a>\"\u001b[1;36m, line \u001b[1;32m3\u001b[0m\n\u001b[1;33m    num[]\u001b[0m\n\u001b[1;37m    ^\u001b[0m\n\u001b[1;31mIndentationError\u001b[0m\u001b[1;31m:\u001b[0m unexpected indent\n"
     ]
    }
   ],
   "source": [
    "#punto 1\n",
    "import random\n",
    "    num[]\n",
    "range (0,100):\n",
    "    num.append(random.randdit(1,25))\n",
    "set1= set()\n",
    "print(set1)"
   ]
  },
  {
   "cell_type": "code",
   "execution_count": 125,
   "id": "41727567",
   "metadata": {},
   "outputs": [
    {
     "name": "stdout",
     "output_type": "stream",
     "text": [
      "La longitud de elemento del set es de:  24\n"
     ]
    }
   ],
   "source": [
    "#punto 2\n",
    "print(\"La longitud de elemento del set es de: \",len(set1))"
   ]
  },
  {
   "cell_type": "code",
   "execution_count": 119,
   "id": "fdc070ec",
   "metadata": {},
   "outputs": [
    {
     "name": "stdout",
     "output_type": "stream",
     "text": [
      "El valor 10 aparece en el set inicial\n",
      "El valor 2 aparece en el set inicial\n",
      "El valor 3 aparece en el set inicial\n",
      "El valor 5 aparece en el set inicial\n",
      "El valor 9 aparece en el set inicial\n"
     ]
    }
   ],
   "source": [
    "# punto 3\n",
    "c=[0]*5\n",
    "\n",
    "for i in range(5):\n",
    "    c[i]=random.randrange(1,11)\n",
    "    if c[i] in set:\n",
    "        print(\"El valor %d aparece en el set inicial\"%c[i])\n",
    "    else:\n",
    "        print(\"El valor %d no aparece en el set inicial\"%c[i])"
   ]
  },
  {
   "cell_type": "code",
   "execution_count": null,
   "id": "a0339abf",
   "metadata": {},
   "outputs": [],
   "source": []
  }
 ],
 "metadata": {
  "kernelspec": {
   "display_name": "Python 3",
   "language": "python",
   "name": "python3"
  },
  "language_info": {
   "codemirror_mode": {
    "name": "ipython",
    "version": 3
   },
   "file_extension": ".py",
   "mimetype": "text/x-python",
   "name": "python",
   "nbconvert_exporter": "python",
   "pygments_lexer": "ipython3",
   "version": "3.8.8"
  }
 },
 "nbformat": 4,
 "nbformat_minor": 5
}
